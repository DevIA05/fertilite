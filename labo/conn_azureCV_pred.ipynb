{
 "cells": [
  {
   "cell_type": "code",
   "execution_count": 1,
   "id": "925735e0-86de-4ddd-b5e3-3153c9dc4333",
   "metadata": {},
   "outputs": [],
   "source": [
    "import requests\n",
    "import os"
   ]
  },
  {
   "cell_type": "code",
   "execution_count": 2,
   "id": "3c67a8eb-1343-499e-b116-c5e9ddd8ffc2",
   "metadata": {},
   "outputs": [
    {
     "name": "stdout",
     "output_type": "stream",
     "text": [
      "C:\\Users\\IKmai\\Documents\\Workspace\\afpar-simplon\\fertilite\\labo\n",
      "C:\\Users\\IKmai\\Documents\\Workspace\\afpar-simplon\\fertilite\n"
     ]
    }
   ],
   "source": [
    "print(os.getcwd())\n",
    "os.chdir(\"..\")\n",
    "print(os.getcwd())"
   ]
  },
  {
   "cell_type": "code",
   "execution_count": 3,
   "id": "02ed18ee-e15f-4413-9163-481a4c5b9d05",
   "metadata": {},
   "outputs": [],
   "source": [
    "# Spécifiez les informations d'URL, de clé de prédiction et de contenu\n",
    "url = 'https://fertiliteclassification-prediction.cognitiveservices.azure.com/customvision/v3.0/Prediction/09e3abf3-b171-4677-8241-367bad9b37c4/classify/iterations/Iteration1/image'\n",
    "prediction_key = 'a3276f0de358412dbf285df671ca86a8'\n",
    "content_type = 'application/octet-stream'"
   ]
  },
  {
   "cell_type": "code",
   "execution_count": 5,
   "id": "f5cc86ac-5655-4ee2-99df-72154dccbd1c",
   "metadata": {},
   "outputs": [],
   "source": [
    "# Chargez l'image à prédire\n",
    "image_path = r'data\\Human Sperm Head Morphology dataset (HuSHeM)\\03_Pyriform\\image_024.BMP'\n",
    "image_data = open(image_path, 'rb').read()"
   ]
  },
  {
   "cell_type": "code",
   "execution_count": 6,
   "id": "07c18ae3-507a-418a-9b27-cfd91452f5cc",
   "metadata": {},
   "outputs": [],
   "source": [
    "# Configurez les en-têtes de la requête\n",
    "headers = {\n",
    "    'Prediction-Key': prediction_key,\n",
    "    'Content-Type': content_type\n",
    "}"
   ]
  },
  {
   "cell_type": "code",
   "execution_count": 7,
   "id": "4ce02ddb-417c-49c1-9346-3fad0deef94e",
   "metadata": {},
   "outputs": [],
   "source": [
    "# Effectuez la prédiction en envoyant une requête POST avec les en-têtes et les données de l'image\n",
    "response = requests.post(url, headers=headers, data=image_data)"
   ]
  },
  {
   "cell_type": "code",
   "execution_count": 8,
   "id": "9cb64592-3f43-4a1e-a76d-63e5c4dc387a",
   "metadata": {},
   "outputs": [
    {
     "name": "stdout",
     "output_type": "stream",
     "text": [
      "{'id': '38c2f858-22bf-4e02-b234-7ce7981b55a9', 'project': '09e3abf3-b171-4677-8241-367bad9b37c4', 'iteration': '2356ccbe-64a1-44b2-a3b9-799bbf8613e4', 'created': '2023-07-14T16:57:31.187Z', 'predictions': [{'probability': 0.99285686, 'tagId': 'be49ac9d-c8fd-44b9-b956-87d078a03cdf', 'tagName': 'pyriform'}, {'probability': 0.0059690806, 'tagId': '8fcc4570-d7ed-4a31-8961-265242a53e04', 'tagName': 'tapered'}, {'probability': 0.0009966472, 'tagId': '921f503b-04ca-4039-a443-9aa175648d02', 'tagName': 'amorphous'}, {'probability': 0.00017731161, 'tagId': '3c271665-50b4-43f8-af4e-1f0021c2730b', 'tagName': 'normal'}]}\n"
     ]
    }
   ],
   "source": [
    "# Traitez la réponse JSON retournée\n",
    "predictions = response.json()\n",
    "print(predictions)"
   ]
  },
  {
   "cell_type": "code",
   "execution_count": 9,
   "id": "c25067e4-7cc3-49dd-b170-3c71cc327f4c",
   "metadata": {},
   "outputs": [
    {
     "name": "stdout",
     "output_type": "stream",
     "text": [
      "Classe : pyriform, Probabilité : 0.99285686\n",
      "Classe : tapered, Probabilité : 0.0059690806\n",
      "Classe : amorphous, Probabilité : 0.0009966472\n",
      "Classe : normal, Probabilité : 0.00017731161\n"
     ]
    }
   ],
   "source": [
    "# Extraire les probabilités et trier par ordre décroissant\n",
    "sorted_predictions = sorted(predictions['predictions'], key=lambda x: x['probability'], reverse=True)\n",
    "\n",
    "# Afficher les probabilités triées\n",
    "for pred in sorted_predictions:\n",
    "    print(f\"Classe : {pred['tagName']}, Probabilité : {pred['probability']}\")"
   ]
  }
 ],
 "metadata": {
  "kernelspec": {
   "display_name": ".venv",
   "language": "python",
   "name": ".venv"
  },
  "language_info": {
   "codemirror_mode": {
    "name": "ipython",
    "version": 3
   },
   "file_extension": ".py",
   "mimetype": "text/x-python",
   "name": "python",
   "nbconvert_exporter": "python",
   "pygments_lexer": "ipython3",
   "version": "3.10.5"
  }
 },
 "nbformat": 4,
 "nbformat_minor": 5
}
