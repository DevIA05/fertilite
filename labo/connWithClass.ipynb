{
 "cells": [
  {
   "cell_type": "code",
   "execution_count": 2,
   "id": "98bb6e4b-75e9-41c3-aeb0-29a31f12054f",
   "metadata": {},
   "outputs": [],
   "source": [
    "import requests\n",
    "import pandas as pd\n",
    "\n",
    "import urllib.request\n",
    "import json\n",
    "import os\n",
    "import ssl"
   ]
  },
  {
   "cell_type": "code",
   "execution_count": 97,
   "id": "5b72d76d-55b4-481c-a09c-3b94cacb04ff",
   "metadata": {},
   "outputs": [
    {
     "name": "stdout",
     "output_type": "stream",
     "text": [
      "The request failed with status code: 424\n",
      "server: azureml-frontdoor\n",
      "date: Thu, 27 Jul 2023 19:41:53 GMT\n",
      "content-type: application/json\n",
      "content-length: 92\n",
      "x-ms-run-function-failed: True\n",
      "x-ms-server-version: azmlinfsrv/0.8.4\n",
      "x-ms-request-id: ef0f14ad-aa14-439e-af07-7c26a708d99b\n",
      "x-request-id: ef0f14ad-aa14-439e-af07-7c26a708d99b\n",
      "ms-azureml-model-error-reason: model_error\n",
      "ms-azureml-model-error-statuscode: 500\n",
      "azureml-model-deployment: automl4f78aa81750-1\n",
      "connection: close\n",
      "\n",
      "\n",
      "{\"message\": \"An unexpected error occurred in scoring script. Check the logs for more info.\"}\n"
     ]
    },
    {
     "data": {
      "text/plain": [
       "'424'"
      ]
     },
     "execution_count": 97,
     "metadata": {},
     "output_type": "execute_result"
    }
   ],
   "source": [
    "class API_values:\n",
    "    \n",
    "    def __init__(self):\n",
    "        self.allowSelfSignedHttps(True) \n",
    "    \n",
    "    url = 'https://workspace-fertilite-jxvfk.southafricanorth.inference.ml.azure.com/score'\n",
    "    api_key = \"wGiKQhKXs5YazqwkcpkBtpoGfX3JMOZE\"\n",
    "    azureml_model_deployment = 'automl4f78aa81750-1'\n",
    "    \n",
    "    def allowSelfSignedHttps(self, allowed):\n",
    "        # bypass the server certificate verification on client side\n",
    "        if allowed and not os.environ.get('PYTHONHTTPSVERIFY', '') and getattr(ssl, '_create_unverified_context', None):\n",
    "            ssl._create_default_https_context = ssl._create_unverified_context\n",
    "    \n",
    "    def getPred(self, data):\n",
    "        #self.allowSelfSignedHttps(True) # this line is needed if you use self-signed certificate in your scoring service.\n",
    "        # Request data goes here\n",
    "        # The example below assumes JSON formatting which may be updated\n",
    "        # depending on the format your endpoint expects.\n",
    "        # More information can be found here:\n",
    "        # https://docs.microsoft.com/azure/machine-learning/how-to-deploy-advanced-entry-script\n",
    "        data_processed = self.transform(data).to_dict(orient='records') \n",
    "        content =  {\n",
    "          \"Inputs\": {\n",
    "            \"data\": [{\"Season\":0,\"Childish diseases\":1,\"Accident or serious trauma\":1,\"Surgical intervention\":1,\"High fevers in the last year\":2,\"Frequency of alcohol consumption\":1,\"Smoking habit\":2,\"Age\":30,\"Number of hours spent sitting per day\":8}]\n",
    "            #\"data\": data_processed #[{\"Season\":0,\"Childish diseases\":1,\"Accident or serious trauma\":1,\"Surgical intervention\":1,\"High fevers in the last year\":2,\"Frequency of alcohol consumption\":1,\"Smoking habit\":2,\"Age\":30,\"Number of hours spent sitting per day\":8}]#data_processed.to_json(orient='records')\n",
    "          },\n",
    "          \"GlobalParameters\": {\n",
    "            \"method\": \"predict\"\n",
    "          }\n",
    "        }\n",
    "\n",
    "        body = str.encode(json.dumps(content))\n",
    "        headers = {'Content-Type':'application/json', \n",
    "                   'Authorization':('Bearer '+ self.api_key), \n",
    "                   'azureml-model-deployment': self.azureml_model_deployment }\n",
    "        req = urllib.request.Request(self.url, body, headers)\n",
    "        result = None\n",
    "        try:\n",
    "            response = urllib.request.urlopen(req)\n",
    "            result = response.read()\n",
    "            print(result)\n",
    "        except urllib.error.HTTPError as error:\n",
    "            print(\"The request failed with status code: \" + str(error.code))\n",
    "            result = str(error.code)\n",
    "            # Print the headers - they include the requert ID and the timestamp, which are useful for debugging the failure\n",
    "            print(error.info())\n",
    "            print(error.read().decode(\"utf8\", 'ignore'))\n",
    "        return result\n",
    "\n",
    "    def transform(self,data):\n",
    "        data['Childish diseases'] = data['Childish diseases'].map({'yes': 1, 'no': 0})\n",
    "        data['Accident or serious trauma'] = data['Accident or serious trauma'].map({'yes': 1, 'no': 0})\n",
    "        data['Surgical intervention'] = data['Surgical intervention'].map({'yes': 1, 'no': 0})\n",
    "        data['High fevers in the last year'] = data['High fevers in the last year'].map({\n",
    "            'more than 3 months ago': 2,\n",
    "            'less than 3 months ago': 1,\n",
    "            'no': 0\n",
    "        })\n",
    "        #data['Diagnosis'] = data['Diagnosis'].map({'Normal': 0, 'Altered': 1})\n",
    "        data['Frequency of alcohol consumption'] = data['Frequency of alcohol consumption'].map({\n",
    "            'once a week': 1,\n",
    "            'several times a week': 2,\n",
    "            'hardly ever or never': 0,\n",
    "            'every day': 3\n",
    "        })\n",
    "        data['Season'] = data['Season'].map({\n",
    "            'spring': 0,\n",
    "            'fall': 1,\n",
    "            'winter': 2,\n",
    "            'summer': 3\n",
    "        })\n",
    "        data['Smoking habit'] = data['Smoking habit'].map({\n",
    "            'occasional': 0,\n",
    "            'daily': 1,\n",
    "            'never': 2,\n",
    "        })\n",
    "        return data\n",
    "    \n",
    "data = {\n",
    "    \"Season\": [\"spring\"],\n",
    "    \"Childish diseases\": [\"yes\"],\n",
    "    \"Accident or serious trauma\": [\"yes\"],\n",
    "    \"Surgical intervention\": [\"yes\"],\n",
    "    \"High fevers in the last year\": [\"more than 3 months ago\"],\n",
    "    \"Frequency of alcohol consumption\": [\"once a week\"],\n",
    "    \"Smoking habit\": [\"never\"],\n",
    "    \"Age\": [30],\n",
    "    \"Hours Sitting per Day\": [8]\n",
    "}\n",
    "data = pd.DataFrame(data)\n",
    "\n",
    "#fromApiVal.getPred(data)"
   ]
  },
  {
   "cell_type": "code",
   "execution_count": 90,
   "id": "fece449b-d285-4e8f-bafc-021334d26377",
   "metadata": {},
   "outputs": [],
   "source": [
    "data = {\n",
    "    \"Season\": [\"spring\"],\n",
    "    \"Childish diseases\": [\"yes\"],\n",
    "    \"Accident or serious trauma\": [\"yes\"],\n",
    "    \"Surgical intervention\": [\"yes\"],\n",
    "    \"High fevers in the last year\": [\"more than 3 months ago\"],\n",
    "    \"Frequency of alcohol consumption\": [\"once a week\"],\n",
    "    \"Smoking habit\": [\"never\"],\n",
    "    \"Age\": [30],\n",
    "    \"Hours Sitting per Day\": [8]\n",
    "}\n",
    "data = pd.DataFrame(data)"
   ]
  },
  {
   "cell_type": "code",
   "execution_count": 91,
   "id": "dcf6883b-ef0d-4fc4-b3b9-186f0c437c36",
   "metadata": {},
   "outputs": [],
   "source": [
    "fromApiVal = API_values()"
   ]
  },
  {
   "cell_type": "code",
   "execution_count": 1,
   "id": "26867a75-b8bf-4626-80d8-e8d087baec31",
   "metadata": {},
   "outputs": [
    {
     "ename": "NameError",
     "evalue": "name 'fromApiVal' is not defined",
     "output_type": "error",
     "traceback": [
      "\u001b[1;31m---------------------------------------------------------------------------\u001b[0m",
      "\u001b[1;31mNameError\u001b[0m                                 Traceback (most recent call last)",
      "Cell \u001b[1;32mIn[1], line 1\u001b[0m\n\u001b[1;32m----> 1\u001b[0m data_processed \u001b[39m=\u001b[39m fromApiVal\u001b[39m.\u001b[39mtransform(data) \n",
      "\u001b[1;31mNameError\u001b[0m: name 'fromApiVal' is not defined"
     ]
    }
   ],
   "source": [
    "data_processed = fromApiVal.transform(data) "
   ]
  },
  {
   "cell_type": "code",
   "execution_count": 84,
   "id": "c7f61e0f-6a36-4517-b4cd-1acec6767072",
   "metadata": {},
   "outputs": [
    {
     "data": {
      "text/html": [
       "<div>\n",
       "<style scoped>\n",
       "    .dataframe tbody tr th:only-of-type {\n",
       "        vertical-align: middle;\n",
       "    }\n",
       "\n",
       "    .dataframe tbody tr th {\n",
       "        vertical-align: top;\n",
       "    }\n",
       "\n",
       "    .dataframe thead th {\n",
       "        text-align: right;\n",
       "    }\n",
       "</style>\n",
       "<table border=\"1\" class=\"dataframe\">\n",
       "  <thead>\n",
       "    <tr style=\"text-align: right;\">\n",
       "      <th></th>\n",
       "      <th>Season</th>\n",
       "      <th>Childish diseases</th>\n",
       "      <th>Accident or serious trauma</th>\n",
       "      <th>Surgical intervention</th>\n",
       "      <th>High fevers in the last year</th>\n",
       "      <th>Frequency of alcohol consumption</th>\n",
       "      <th>Smoking habit</th>\n",
       "      <th>Age</th>\n",
       "      <th>Hours Sitting per Day</th>\n",
       "    </tr>\n",
       "  </thead>\n",
       "  <tbody>\n",
       "    <tr>\n",
       "      <th>0</th>\n",
       "      <td>0</td>\n",
       "      <td>1</td>\n",
       "      <td>1</td>\n",
       "      <td>1</td>\n",
       "      <td>2</td>\n",
       "      <td>1.0</td>\n",
       "      <td>2</td>\n",
       "      <td>30</td>\n",
       "      <td>8</td>\n",
       "    </tr>\n",
       "  </tbody>\n",
       "</table>\n",
       "</div>"
      ],
      "text/plain": [
       "   Season  Childish diseases  Accident or serious trauma  \\\n",
       "0       0                  1                           1   \n",
       "\n",
       "   Surgical intervention  High fevers in the last year  \\\n",
       "0                      1                             2   \n",
       "\n",
       "   Frequency of alcohol consumption  Smoking habit  Age  Hours Sitting per Day  \n",
       "0                               1.0              2   30                      8  "
      ]
     },
     "execution_count": 84,
     "metadata": {},
     "output_type": "execute_result"
    }
   ],
   "source": [
    "data_processed"
   ]
  },
  {
   "cell_type": "code",
   "execution_count": 85,
   "id": "61d6693d-77d9-476a-bcb1-c87b7b17ae1d",
   "metadata": {},
   "outputs": [
    {
     "data": {
      "text/plain": [
       "'[{\"Season\":0,\"Childish diseases\":1,\"Accident or serious trauma\":1,\"Surgical intervention\":1,\"High fevers in the last year\":2,\"Frequency of alcohol consumption\":1.0,\"Smoking habit\":2,\"Age\":30,\"Hours Sitting per Day\":8}]'"
      ]
     },
     "execution_count": 85,
     "metadata": {},
     "output_type": "execute_result"
    }
   ],
   "source": [
    "data_json = data_processed.to_json(orient='records')\n",
    "data_json"
   ]
  },
  {
   "cell_type": "code",
   "execution_count": 86,
   "id": "11860212-d44c-4a94-8fc5-9551d616a4da",
   "metadata": {},
   "outputs": [
    {
     "name": "stdout",
     "output_type": "stream",
     "text": [
      "The request failed with status code: 424\n",
      "server: azureml-frontdoor\n",
      "date: Thu, 27 Jul 2023 19:37:44 GMT\n",
      "content-type: application/json\n",
      "content-length: 92\n",
      "x-ms-run-function-failed: True\n",
      "x-ms-server-version: azmlinfsrv/0.8.4\n",
      "x-ms-request-id: 3ef999ce-5525-4814-a038-c3973dff7644\n",
      "x-request-id: 3ef999ce-5525-4814-a038-c3973dff7644\n",
      "ms-azureml-model-error-reason: model_error\n",
      "ms-azureml-model-error-statuscode: 500\n",
      "azureml-model-deployment: automl4f78aa81750-1\n",
      "connection: close\n",
      "\n",
      "\n",
      "{\"message\": \"An unexpected error occurred in scoring script. Check the logs for more info.\"}\n"
     ]
    },
    {
     "data": {
      "text/plain": [
       "'424'"
      ]
     },
     "execution_count": 86,
     "metadata": {},
     "output_type": "execute_result"
    }
   ],
   "source": [
    "fromApiVal.getPred(data)"
   ]
  },
  {
   "cell_type": "code",
   "execution_count": null,
   "id": "98ce1ff1-79e1-48d6-b865-949977f9393e",
   "metadata": {},
   "outputs": [],
   "source": []
  },
  {
   "cell_type": "code",
   "execution_count": null,
   "id": "60b4e425-59cf-4adf-a0e8-64473f1f1bcd",
   "metadata": {},
   "outputs": [],
   "source": []
  }
 ],
 "metadata": {
  "kernelspec": {
   "display_name": "Python 3 (ipykernel)",
   "language": "python",
   "name": "python3"
  },
  "language_info": {
   "codemirror_mode": {
    "name": "ipython",
    "version": 3
   },
   "file_extension": ".py",
   "mimetype": "text/x-python",
   "name": "python",
   "nbconvert_exporter": "python",
   "pygments_lexer": "ipython3",
   "version": "3.10.5"
  }
 },
 "nbformat": 4,
 "nbformat_minor": 5
}
