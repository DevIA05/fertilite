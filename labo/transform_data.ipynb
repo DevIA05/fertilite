{
 "cells": [
  {
   "cell_type": "code",
   "execution_count": 3,
   "id": "2bf6a240-a1b7-4a6b-a26e-49fb35ef49fe",
   "metadata": {},
   "outputs": [],
   "source": [
    "import pandas as pd"
   ]
  },
  {
   "cell_type": "code",
   "execution_count": 26,
   "id": "4eb85d20-e990-4a12-bce0-2f423e9ca9c2",
   "metadata": {},
   "outputs": [],
   "source": [
    "chemin_vers_csv = \"../data/fertility.csv\"\n",
    "df = pd.read_csv(chemin_vers_csv)"
   ]
  },
  {
   "cell_type": "markdown",
   "id": "822406c8-2508-42bf-b6ee-c0d7b8cb3cab",
   "metadata": {},
   "source": [
    "# Exploration des données"
   ]
  },
  {
   "cell_type": "code",
   "execution_count": 27,
   "id": "95c2011e-83e7-4464-967a-641aebea5926",
   "metadata": {},
   "outputs": [
    {
     "data": {
      "text/html": [
       "<div>\n",
       "<style scoped>\n",
       "    .dataframe tbody tr th:only-of-type {\n",
       "        vertical-align: middle;\n",
       "    }\n",
       "\n",
       "    .dataframe tbody tr th {\n",
       "        vertical-align: top;\n",
       "    }\n",
       "\n",
       "    .dataframe thead th {\n",
       "        text-align: right;\n",
       "    }\n",
       "</style>\n",
       "<table border=\"1\" class=\"dataframe\">\n",
       "  <thead>\n",
       "    <tr style=\"text-align: right;\">\n",
       "      <th></th>\n",
       "      <th>Season</th>\n",
       "      <th>Age</th>\n",
       "      <th>Childish diseases</th>\n",
       "      <th>Accident or serious trauma</th>\n",
       "      <th>Surgical intervention</th>\n",
       "      <th>High fevers in the last year</th>\n",
       "      <th>Frequency of alcohol consumption</th>\n",
       "      <th>Smoking habit</th>\n",
       "      <th>Number of hours spent sitting per day</th>\n",
       "      <th>Diagnosis</th>\n",
       "    </tr>\n",
       "  </thead>\n",
       "  <tbody>\n",
       "    <tr>\n",
       "      <th>0</th>\n",
       "      <td>spring</td>\n",
       "      <td>30</td>\n",
       "      <td>no</td>\n",
       "      <td>yes</td>\n",
       "      <td>yes</td>\n",
       "      <td>more than 3 months ago</td>\n",
       "      <td>once a week</td>\n",
       "      <td>occasional</td>\n",
       "      <td>16</td>\n",
       "      <td>Normal</td>\n",
       "    </tr>\n",
       "    <tr>\n",
       "      <th>1</th>\n",
       "      <td>spring</td>\n",
       "      <td>35</td>\n",
       "      <td>yes</td>\n",
       "      <td>no</td>\n",
       "      <td>yes</td>\n",
       "      <td>more than 3 months ago</td>\n",
       "      <td>once a week</td>\n",
       "      <td>daily</td>\n",
       "      <td>6</td>\n",
       "      <td>Altered</td>\n",
       "    </tr>\n",
       "    <tr>\n",
       "      <th>2</th>\n",
       "      <td>spring</td>\n",
       "      <td>27</td>\n",
       "      <td>yes</td>\n",
       "      <td>no</td>\n",
       "      <td>no</td>\n",
       "      <td>more than 3 months ago</td>\n",
       "      <td>hardly ever or never</td>\n",
       "      <td>never</td>\n",
       "      <td>9</td>\n",
       "      <td>Normal</td>\n",
       "    </tr>\n",
       "    <tr>\n",
       "      <th>3</th>\n",
       "      <td>spring</td>\n",
       "      <td>32</td>\n",
       "      <td>no</td>\n",
       "      <td>yes</td>\n",
       "      <td>yes</td>\n",
       "      <td>more than 3 months ago</td>\n",
       "      <td>hardly ever or never</td>\n",
       "      <td>never</td>\n",
       "      <td>7</td>\n",
       "      <td>Normal</td>\n",
       "    </tr>\n",
       "    <tr>\n",
       "      <th>4</th>\n",
       "      <td>spring</td>\n",
       "      <td>30</td>\n",
       "      <td>yes</td>\n",
       "      <td>yes</td>\n",
       "      <td>no</td>\n",
       "      <td>more than 3 months ago</td>\n",
       "      <td>once a week</td>\n",
       "      <td>never</td>\n",
       "      <td>9</td>\n",
       "      <td>Altered</td>\n",
       "    </tr>\n",
       "  </tbody>\n",
       "</table>\n",
       "</div>"
      ],
      "text/plain": [
       "   Season  Age Childish diseases Accident or serious trauma  \\\n",
       "0  spring   30                no                        yes   \n",
       "1  spring   35               yes                         no   \n",
       "2  spring   27               yes                         no   \n",
       "3  spring   32                no                        yes   \n",
       "4  spring   30               yes                        yes   \n",
       "\n",
       "  Surgical intervention High fevers in the last year  \\\n",
       "0                   yes       more than 3 months ago   \n",
       "1                   yes       more than 3 months ago   \n",
       "2                    no       more than 3 months ago   \n",
       "3                   yes       more than 3 months ago   \n",
       "4                    no       more than 3 months ago   \n",
       "\n",
       "  Frequency of alcohol consumption Smoking habit  \\\n",
       "0                      once a week    occasional   \n",
       "1                      once a week         daily   \n",
       "2             hardly ever or never         never   \n",
       "3             hardly ever or never         never   \n",
       "4                      once a week         never   \n",
       "\n",
       "   Number of hours spent sitting per day Diagnosis  \n",
       "0                                     16    Normal  \n",
       "1                                      6   Altered  \n",
       "2                                      9    Normal  \n",
       "3                                      7    Normal  \n",
       "4                                      9   Altered  "
      ]
     },
     "execution_count": 27,
     "metadata": {},
     "output_type": "execute_result"
    }
   ],
   "source": [
    "df.head()"
   ]
  },
  {
   "cell_type": "code",
   "execution_count": 28,
   "id": "cd007ef2-e942-4eaf-9121-6962b16d0310",
   "metadata": {},
   "outputs": [
    {
     "data": {
      "text/plain": [
       "Season                                    4\n",
       "Age                                      10\n",
       "Childish diseases                         2\n",
       "Accident or serious trauma                2\n",
       "Surgical intervention                     2\n",
       "High fevers in the last year              3\n",
       "Frequency of alcohol consumption          5\n",
       "Smoking habit                             3\n",
       "Number of hours spent sitting per day    14\n",
       "Diagnosis                                 2\n",
       "dtype: int64"
      ]
     },
     "execution_count": 28,
     "metadata": {},
     "output_type": "execute_result"
    }
   ],
   "source": [
    "df.nunique()"
   ]
  },
  {
   "cell_type": "code",
   "execution_count": 29,
   "id": "6720be37-b633-4f0a-9f47-1e2731f208c6",
   "metadata": {},
   "outputs": [
    {
     "data": {
      "text/plain": [
       "Season                                   object\n",
       "Age                                       int64\n",
       "Childish diseases                        object\n",
       "Accident or serious trauma               object\n",
       "Surgical intervention                    object\n",
       "High fevers in the last year             object\n",
       "Frequency of alcohol consumption         object\n",
       "Smoking habit                            object\n",
       "Number of hours spent sitting per day     int64\n",
       "Diagnosis                                object\n",
       "dtype: object"
      ]
     },
     "execution_count": 29,
     "metadata": {},
     "output_type": "execute_result"
    }
   ],
   "source": [
    "df.dtypes"
   ]
  },
  {
   "cell_type": "markdown",
   "id": "c06a9608-fdf1-4295-b21d-72fbb39efdfc",
   "metadata": {},
   "source": [
    "# Transformation des données"
   ]
  },
  {
   "cell_type": "code",
   "execution_count": 30,
   "id": "1f3f7fe7-9abc-4bd2-b62a-429c78236ba9",
   "metadata": {},
   "outputs": [],
   "source": [
    "df['Childish diseases'] = df['Childish diseases'].map({'yes': 1, 'no': 0})"
   ]
  },
  {
   "cell_type": "code",
   "execution_count": 31,
   "id": "e1cb1eba-74f8-4e61-a80a-45ac4ffe5859",
   "metadata": {},
   "outputs": [],
   "source": [
    "df['Accident or serious trauma'] = df['Accident or serious trauma'].map({'yes': 1, 'no': 0})"
   ]
  },
  {
   "cell_type": "code",
   "execution_count": 32,
   "id": "d639ea55-48d2-4a21-bc53-114440783aef",
   "metadata": {},
   "outputs": [],
   "source": [
    "df['Surgical intervention'] = df['Surgical intervention'].map({'yes': 1, 'no': 0})"
   ]
  },
  {
   "cell_type": "code",
   "execution_count": 33,
   "id": "0cbf0da8-27ef-4b00-9828-2dbae0b1ce24",
   "metadata": {},
   "outputs": [],
   "source": [
    "df['High fevers in the last year'] = df['High fevers in the last year'].map({\n",
    "    'more than 3 months ago': 2,\n",
    "    'less than 3 months ago': 1,\n",
    "    'no': 0\n",
    "})"
   ]
  },
  {
   "cell_type": "code",
   "execution_count": 34,
   "id": "8812ab09-9f9f-4571-8b7c-230e2194c3ad",
   "metadata": {},
   "outputs": [],
   "source": [
    "df['Diagnosis'] = df['Diagnosis'].map({'Normal': 0, 'Altered': 1})"
   ]
  },
  {
   "cell_type": "code",
   "execution_count": 35,
   "id": "46ae8099-40d8-4beb-97f6-ca45d0f7d230",
   "metadata": {},
   "outputs": [],
   "source": [
    "# Pour la colonne \"Frequency of alcohol consumption\" (once a week/several times a week/hardly ever or never/every day)\n",
    "df['Frequency of alcohol consumption'] = df['Frequency of alcohol consumption'].map({\n",
    "    'once a week': 1,\n",
    "    'several times a week': 2,\n",
    "    'hardly ever or never': 0,\n",
    "    'every day': 3\n",
    "})"
   ]
  },
  {
   "cell_type": "code",
   "execution_count": 36,
   "id": "5fa343b0-61d0-4d23-89af-3c810ed3fd29",
   "metadata": {},
   "outputs": [],
   "source": [
    "#df_season = pd.get_dummies(df['Season'], columns=['Season'])\n",
    "#df_season = df_season.astype(int)"
   ]
  },
  {
   "cell_type": "code",
   "execution_count": 37,
   "id": "ca5b2b47-efee-486c-af72-ef1025153313",
   "metadata": {},
   "outputs": [],
   "source": [
    "#df_season.head()"
   ]
  },
  {
   "cell_type": "code",
   "execution_count": 38,
   "id": "e919cb8b-b19f-4ab3-80b9-0ad53f582c09",
   "metadata": {},
   "outputs": [],
   "source": [
    "# Pour la colonne \"Frequency of alcohol consumption\" (once a week/several times a week/hardly ever or never/every day)\n",
    "df['Season'] = df['Season'].map({\n",
    "    'spring': 0,\n",
    "    'fall': 1,\n",
    "    'winter': 2,\n",
    "    'summer': 3\n",
    "})"
   ]
  },
  {
   "cell_type": "code",
   "execution_count": 39,
   "id": "4ad820d8-abee-4b11-9544-577c10a0be24",
   "metadata": {},
   "outputs": [
    {
     "data": {
      "text/plain": [
       "array(['occasional', 'daily', 'never'], dtype=object)"
      ]
     },
     "execution_count": 39,
     "metadata": {},
     "output_type": "execute_result"
    }
   ],
   "source": [
    "df['Smoking habit'].unique()"
   ]
  },
  {
   "cell_type": "code",
   "execution_count": 40,
   "id": "01f32d90-393f-473c-ad0e-5e4137cc6e20",
   "metadata": {},
   "outputs": [],
   "source": [
    "df['Smoking habit'] = df['Smoking habit'].map({\n",
    "    'occasional': 0,\n",
    "    'daily': 1,\n",
    "    'never': 2,\n",
    "})"
   ]
  },
  {
   "cell_type": "code",
   "execution_count": 41,
   "id": "66a0c104-8afe-4605-8742-bf85ecafda5c",
   "metadata": {},
   "outputs": [
    {
     "data": {
      "text/html": [
       "<div>\n",
       "<style scoped>\n",
       "    .dataframe tbody tr th:only-of-type {\n",
       "        vertical-align: middle;\n",
       "    }\n",
       "\n",
       "    .dataframe tbody tr th {\n",
       "        vertical-align: top;\n",
       "    }\n",
       "\n",
       "    .dataframe thead th {\n",
       "        text-align: right;\n",
       "    }\n",
       "</style>\n",
       "<table border=\"1\" class=\"dataframe\">\n",
       "  <thead>\n",
       "    <tr style=\"text-align: right;\">\n",
       "      <th></th>\n",
       "      <th>Season</th>\n",
       "      <th>Age</th>\n",
       "      <th>Childish diseases</th>\n",
       "      <th>Accident or serious trauma</th>\n",
       "      <th>Surgical intervention</th>\n",
       "      <th>High fevers in the last year</th>\n",
       "      <th>Frequency of alcohol consumption</th>\n",
       "      <th>Smoking habit</th>\n",
       "      <th>Number of hours spent sitting per day</th>\n",
       "      <th>Diagnosis</th>\n",
       "    </tr>\n",
       "  </thead>\n",
       "  <tbody>\n",
       "    <tr>\n",
       "      <th>0</th>\n",
       "      <td>0</td>\n",
       "      <td>30</td>\n",
       "      <td>0</td>\n",
       "      <td>1</td>\n",
       "      <td>1</td>\n",
       "      <td>2</td>\n",
       "      <td>1.0</td>\n",
       "      <td>0</td>\n",
       "      <td>16</td>\n",
       "      <td>0</td>\n",
       "    </tr>\n",
       "    <tr>\n",
       "      <th>1</th>\n",
       "      <td>0</td>\n",
       "      <td>35</td>\n",
       "      <td>1</td>\n",
       "      <td>0</td>\n",
       "      <td>1</td>\n",
       "      <td>2</td>\n",
       "      <td>1.0</td>\n",
       "      <td>1</td>\n",
       "      <td>6</td>\n",
       "      <td>1</td>\n",
       "    </tr>\n",
       "    <tr>\n",
       "      <th>2</th>\n",
       "      <td>0</td>\n",
       "      <td>27</td>\n",
       "      <td>1</td>\n",
       "      <td>0</td>\n",
       "      <td>0</td>\n",
       "      <td>2</td>\n",
       "      <td>0.0</td>\n",
       "      <td>2</td>\n",
       "      <td>9</td>\n",
       "      <td>0</td>\n",
       "    </tr>\n",
       "    <tr>\n",
       "      <th>3</th>\n",
       "      <td>0</td>\n",
       "      <td>32</td>\n",
       "      <td>0</td>\n",
       "      <td>1</td>\n",
       "      <td>1</td>\n",
       "      <td>2</td>\n",
       "      <td>0.0</td>\n",
       "      <td>2</td>\n",
       "      <td>7</td>\n",
       "      <td>0</td>\n",
       "    </tr>\n",
       "    <tr>\n",
       "      <th>4</th>\n",
       "      <td>0</td>\n",
       "      <td>30</td>\n",
       "      <td>1</td>\n",
       "      <td>1</td>\n",
       "      <td>0</td>\n",
       "      <td>2</td>\n",
       "      <td>1.0</td>\n",
       "      <td>2</td>\n",
       "      <td>9</td>\n",
       "      <td>1</td>\n",
       "    </tr>\n",
       "  </tbody>\n",
       "</table>\n",
       "</div>"
      ],
      "text/plain": [
       "   Season  Age  Childish diseases  Accident or serious trauma  \\\n",
       "0       0   30                  0                           1   \n",
       "1       0   35                  1                           0   \n",
       "2       0   27                  1                           0   \n",
       "3       0   32                  0                           1   \n",
       "4       0   30                  1                           1   \n",
       "\n",
       "   Surgical intervention  High fevers in the last year  \\\n",
       "0                      1                             2   \n",
       "1                      1                             2   \n",
       "2                      0                             2   \n",
       "3                      1                             2   \n",
       "4                      0                             2   \n",
       "\n",
       "   Frequency of alcohol consumption  Smoking habit  \\\n",
       "0                               1.0              0   \n",
       "1                               1.0              1   \n",
       "2                               0.0              2   \n",
       "3                               0.0              2   \n",
       "4                               1.0              2   \n",
       "\n",
       "   Number of hours spent sitting per day  Diagnosis  \n",
       "0                                     16          0  \n",
       "1                                      6          1  \n",
       "2                                      9          0  \n",
       "3                                      7          0  \n",
       "4                                      9          1  "
      ]
     },
     "execution_count": 41,
     "metadata": {},
     "output_type": "execute_result"
    }
   ],
   "source": [
    "df.head()"
   ]
  },
  {
   "cell_type": "code",
   "execution_count": 42,
   "id": "59b74751-22de-414e-b75f-bccd839dc219",
   "metadata": {},
   "outputs": [],
   "source": [
    "df.to_csv('../data/fertility_transformed.csv', index=False)"
   ]
  },
  {
   "cell_type": "code",
   "execution_count": 9,
   "id": "8c7d4bc5",
   "metadata": {},
   "outputs": [],
   "source": [
    "def transform(data):\n",
    "    data = pd.DataFrame(data)\n",
    "    data['Childish diseases'] = data['Childish diseases'].map({'yes': 1, 'no': 0})\n",
    "    data['Accident or serious trauma'] = data['Accident or serious trauma'].map({'yes': 1, 'no': 0})\n",
    "    data['Surgical intervention'] = data['Surgical intervention'].map({'yes': 1, 'no': 0})\n",
    "    data['High fevers in the last year'] = data['High fevers in the last year'].map({\n",
    "        'more than 3 months ago': 2,\n",
    "        'less than 3 months ago': 1,\n",
    "        'no': 0\n",
    "    })\n",
    "    #data['Diagnosis'] = data['Diagnosis'].map({'Normal': 0, 'Altered': 1})\n",
    "    data['Frequency of alcohol consumption'] = data['Frequency of alcohol consumption'].map({\n",
    "        'once a week': 1,\n",
    "        'several times a week': 2,\n",
    "        'hardly ever or never': 0,\n",
    "        'every day': 3\n",
    "    })\n",
    "    data['Season'] = data['Season'].map({\n",
    "        'spring': 0,\n",
    "        'fall': 1,\n",
    "        'winter': 2,\n",
    "        'summer': 3\n",
    "    })\n",
    "    data['Smoking habit'] = data['Smoking habit'].map({\n",
    "        'occasional': 0,\n",
    "        'daily': 1,\n",
    "        'never': 2,\n",
    "    })\n",
    "    return data"
   ]
  },
  {
   "cell_type": "code",
   "execution_count": 8,
   "id": "b9f7a7e1-171f-417c-bdb6-04627810bc6d",
   "metadata": {},
   "outputs": [],
   "source": [
    "data = {'Season': ['spring'], 'Childish diseases': ['yes'], \n",
    "        'Accident or serious trauma': ['yes'], \n",
    "        'Surgical intervention': ['yes'], \n",
    "        'High fevers in the last year': ['more than 3 months ago'], \n",
    "        'Frequency of alcohol consumption': ['once a week'], \n",
    "        'Smoking habit': ['never'], 'Age': [30], \n",
    "        'Number of hours spent sitting per day': [8]}"
   ]
  },
  {
   "cell_type": "code",
   "execution_count": 12,
   "id": "1a3f1a6b",
   "metadata": {},
   "outputs": [
    {
     "data": {
      "text/html": [
       "<div>\n",
       "<style scoped>\n",
       "    .dataframe tbody tr th:only-of-type {\n",
       "        vertical-align: middle;\n",
       "    }\n",
       "\n",
       "    .dataframe tbody tr th {\n",
       "        vertical-align: top;\n",
       "    }\n",
       "\n",
       "    .dataframe thead th {\n",
       "        text-align: right;\n",
       "    }\n",
       "</style>\n",
       "<table border=\"1\" class=\"dataframe\">\n",
       "  <thead>\n",
       "    <tr style=\"text-align: right;\">\n",
       "      <th></th>\n",
       "      <th>Season</th>\n",
       "      <th>Childish diseases</th>\n",
       "      <th>Accident or serious trauma</th>\n",
       "      <th>Surgical intervention</th>\n",
       "      <th>High fevers in the last year</th>\n",
       "      <th>Frequency of alcohol consumption</th>\n",
       "      <th>Smoking habit</th>\n",
       "      <th>Age</th>\n",
       "      <th>Number of hours spent sitting per day</th>\n",
       "    </tr>\n",
       "  </thead>\n",
       "  <tbody>\n",
       "    <tr>\n",
       "      <th>0</th>\n",
       "      <td>0</td>\n",
       "      <td>1</td>\n",
       "      <td>1</td>\n",
       "      <td>1</td>\n",
       "      <td>2</td>\n",
       "      <td>1</td>\n",
       "      <td>2</td>\n",
       "      <td>30</td>\n",
       "      <td>8</td>\n",
       "    </tr>\n",
       "  </tbody>\n",
       "</table>\n",
       "</div>"
      ],
      "text/plain": [
       "   Season  Childish diseases  Accident or serious trauma  \\\n",
       "0       0                  1                           1   \n",
       "\n",
       "   Surgical intervention  High fevers in the last year  \\\n",
       "0                      1                             2   \n",
       "\n",
       "   Frequency of alcohol consumption  Smoking habit  Age  \\\n",
       "0                                 1              2   30   \n",
       "\n",
       "   Number of hours spent sitting per day  \n",
       "0                                      8  "
      ]
     },
     "execution_count": 12,
     "metadata": {},
     "output_type": "execute_result"
    }
   ],
   "source": [
    "import pandas as pd\n",
    "transform(data)"
   ]
  },
  {
   "cell_type": "code",
   "execution_count": null,
   "id": "a14ac7eb",
   "metadata": {},
   "outputs": [],
   "source": []
  }
 ],
 "metadata": {
  "kernelspec": {
   "display_name": "Python 3 (ipykernel)",
   "language": "python",
   "name": "python3"
  },
  "language_info": {
   "codemirror_mode": {
    "name": "ipython",
    "version": 3
   },
   "file_extension": ".py",
   "mimetype": "text/x-python",
   "name": "python",
   "nbconvert_exporter": "python",
   "pygments_lexer": "ipython3",
   "version": "3.10.5"
  }
 },
 "nbformat": 4,
 "nbformat_minor": 5
}
